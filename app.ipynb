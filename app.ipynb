{
 "cells": [
  {
   "cell_type": "code",
   "execution_count": null,
   "metadata": {},
   "outputs": [],
   "source": [
    "from flask import Flask, render_template, jsonify,redirect, url_for\n",
    "from flask_sqlalchemy import SQLAlchemy\n",
    "\n",
    "app = Flask(__name__)\n",
    "\n",
    "app.config['SQLALCHEMY_DATABASE_URI'] = 'sqlite:///daily_treasury_yield_curve_rates.db'\n",
    "\n",
    "db = SQLAlchemy(app)\n",
    "\n",
    "class Covid19Table(db.Model):\n",
    "    id = db.Column(db.Integer, primary_key=True)\n",
    "    date = db.Column(db.String(255), nullable=False)\n",
    "    one_mo = db.Column(db.String(255), nullable=False)\n",
    "    two_mo = db.Column(db.Float, nullable=False)\n",
    "    three_mo = db.Column(db.Float, nullable=False)\n",
    "    six_month = db.Column(db.Float, nullable=False)\n",
    "    one_year = db.Column(db.Float, nullable=False)\n",
    "    two_year = db.Column(db.Float, nullable=False)\n",
    "    three_year = db.Column(db.Float, nullable=False)\n",
    "    five_year = db.Column(db.Float, nullable=False)\n",
    "    seven_year = db.Column(db.Float, nullable=False)\n",
    "    ten_year = db.Column(db.Float, nullable=False)\n",
    "    twenty_year = db.Column(db.Float, nullable=False)\n",
    "    thirty_year = db.Column(db.Float, nullable=False)\n",
    "    \n",
    "    "
   ]
  }
 ],
 "metadata": {
  "kernelspec": {
   "display_name": "Python 3",
   "language": "python",
   "name": "python3"
  },
  "language_info": {
   "codemirror_mode": {
    "name": "ipython",
    "version": 3
   },
   "file_extension": ".py",
   "mimetype": "text/x-python",
   "name": "python",
   "nbconvert_exporter": "python",
   "pygments_lexer": "ipython3",
   "version": "3.8.5"
  }
 },
 "nbformat": 4,
 "nbformat_minor": 4
}
